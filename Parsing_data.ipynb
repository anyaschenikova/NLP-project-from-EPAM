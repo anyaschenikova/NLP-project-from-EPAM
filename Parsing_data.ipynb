{
  "nbformat": 4,
  "nbformat_minor": 0,
  "metadata": {
    "colab": {
      "name": "Parsing data.ipynb",
      "provenance": [],
      "collapsed_sections": []
    },
    "kernelspec": {
      "name": "python3",
      "display_name": "Python 3"
    },
    "language_info": {
      "name": "python"
    }
  },
  "cells": [
    {
      "cell_type": "code",
      "metadata": {
        "id": "XfULSoSP2zx5"
      },
      "source": [
        "import requests, json, concurrent, pandas as pd\n",
        "from bs4 import BeautifulSoup\n",
        "\n",
        "site_categories = []\n",
        "\n",
        "main_page_content = requests.get(f'https://panorama.pub').content\n",
        "bs_instance = BeautifulSoup(main_page_content, 'html.parser')\n",
        "useless_categories_links = ['/', '/books', '/donate', '/about']\n",
        "for nav_link in bs_instance.find_all('a', class_='nav-link'):\n",
        "  if nav_link['href'] in useless_categories_links:\n",
        "    continue\n",
        "  site_categories.append({\n",
        "      'link': nav_link['href'],\n",
        "      'name': nav_link.text.replace('\\n', '').strip()\n",
        "  })\n",
        "\n",
        "parsed_news = {site_category['name']: [] for site_category in site_categories}\n",
        "def get_pages(category, pages_amount, page_num):\n",
        "  print(f'Скачиваю страницу номер {page_num} из {pages_amount}')\n",
        "  page_content = requests.get(f'https://panorama.pub{category[\"link\"]}?page={page_num}').content\n",
        "\n",
        "  for news_link in BeautifulSoup(page_content, 'html.parser').find_all('a', class_='entry big'):\n",
        "    news_content = requests.get(f'https://panorama.pub{news_link[\"href\"]}').content\n",
        "    bs_instance = BeautifulSoup(news_content, 'html.parser')\n",
        "\n",
        "    news_obj = {\n",
        "        'title': bs_instance.find('h1').text.replace('\\n', '').strip(),\n",
        "        'text': ' '.join([tag.text for tag in bs_instance.find_all('p')]) \n",
        "    }\n",
        "    parsed_news[category['name']].append(news_obj)\n",
        "    print(news_obj['title'])\n",
        "\n",
        "\n",
        "for category in site_categories:\n",
        "  print('#' * 20)\n",
        "  print(f'Скачиваю категорию: {category[\"name\"]}')\n",
        "  category_content = requests.get(f'https://panorama.pub{category[\"link\"]}').content\n",
        "\n",
        "  bs_instance = BeautifulSoup(category_content, 'html.parser')\n",
        "  pages_amount = int(bs_instance.find('ul', class_='pagination').find_all('li')[-2].select('a')[0].text)\n",
        "  with concurrent.futures.ThreadPoolExecutor() as executor: # optimally defined number of threads\n",
        "    res = [executor.submit(get_pages, category, pages_amount, page_num) for page_num in range(1, pages_amount + 1)]\n",
        "    concurrent.futures.wait(res)\n",
        "      \n",
        "    # with open('/content/dump_articles.json', 'w') as f:\n",
        "    #   f.write(json.dumps(parsed_news))\n",
        "  print('#' * 20)\n",
        "\n",
        "data_list = []\n",
        "for category in site_categories:\n",
        "  for news in parsed_news[category['name']]:\n",
        "    data_list.append({\n",
        "      'Заголовок': news['title'],\n",
        "      'Текст': news['text'],\n",
        "       'Категория': category['name']\n",
        "    })\n",
        "pd.DataFrame(data_list)"
      ],
      "execution_count": null,
      "outputs": []
    },
    {
      "cell_type": "code",
      "metadata": {
        "id": "w52bWSEYKSQo"
      },
      "source": [
        "pd.DataFrame(data_list).to_csv('/content/articles.csv', encoding='utf-8', index=False)"
      ],
      "execution_count": null,
      "outputs": []
    },
    {
      "cell_type": "code",
      "metadata": {
        "id": "fQ-elkduKdAx"
      },
      "source": [
        "df = pd.read_csv('/content/articles.csv').head()"
      ],
      "execution_count": null,
      "outputs": []
    },
    {
      "cell_type": "code",
      "metadata": {
        "colab": {
          "base_uri": "https://localhost:8080/",
          "height": 120
        },
        "id": "JOmAOvUNK7pK",
        "outputId": "721ad766-7478-4e06-b2eb-358130f59395"
      },
      "source": [
        "df['Текст'][0]"
      ],
      "execution_count": null,
      "outputs": [
        {
          "output_type": "execute_result",
          "data": {
            "application/vnd.google.colaboratory.intrinsic+json": {
              "type": "string"
            },
            "text/plain": [
              "'Более 4 тысяч берлинцев приняли участие в народных гуляньях по случаю годовщины выписки российского блогера Алексея Навального из клиники «Шарите». Помимо украинской и грузинской диаспор, в спонтанных празднованиях приняли участие сотрудники американского посольства. Несмотря на то, что гулянья не были санкционированы властями Берлина, полиция не стала разгонять их водомётами и обеспечивала безопасность вблизи площади Маккейна, где собрались участники. Берлинцы организовали там несколько стихийных митингов в поддержку освобождения Навального из заключения. Их участники также требовали усилить санкционное давление на российские власти и ускорить процесс вступления Украины и Грузии в НАТО. Также на площади звучала музыка, выступали ансамбли самодеятельности, продавали матрёшки и другие сувениры. Группа волонтёров организовала сбор пожертвований в поддержку российских политзаключённых. В финале мероприятия перед протестующими выступила замгоссекретаря США Виктория Нуланд, поблагодарившая немецких врачей за то, что они поставили Алексея на ноги. «День, когда Алексей Навальный покинул «Шаритэ», навсегда вписан в историю. Память о нём будет вечно жить в наших сердцах. Сегодня мысли каждого берлинца – лишь о его безопасности и благополучии. Интерес к чудовищной попытке убийства Алексея при помощи боевого отравляющего вещества класса «Новичок» не угасает уже целый год, что говорит о беспрецедентно высоком уровне поддержки его политической партии среди россиян и жителей стран Запада. Не забудем, не простим, и жестоко отомстим», - сказала Виктория Нуланд.'"
            ]
          },
          "metadata": {},
          "execution_count": 14
        }
      ]
    }
  ]
}